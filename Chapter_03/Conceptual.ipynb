{
 "cells": [
  {
   "cell_type": "markdown",
   "metadata": {},
   "source": [
    "# Chapter 3: Linear Regression - Conceptual Exercises\n"
   ]
  },
  {
   "cell_type": "markdown",
   "metadata": {},
   "source": [
    "## Excercise 3.1:\n",
    "\n",
    "Describe the null hypotheses to which the p-values given in Table 3.4 correspond. Explain what conclusions you can draw based on these p-values. Your explanation should be phrased in terms of sales, TV, radio, and newspaper, rather than in terms of the coefficients of the linear model.\n",
    "\n",
    "### Answer:\n",
    "\n",
    "Each null hypothesis for every variable TV, Radio and Newspaper is interpreted to whether the coefficient of the predictor is not significantly different from zero.\n",
    "\n",
    "1. TV (p-value<0.0001): based on the p-value we can reject the null hypothesis and conclude that spending 1000$ on TV advertisement increases Sale for 460$ while holding other variables fixed.\n",
    "\n",
    "2. Radio (p-value<0.0001): based on the p-value we can reject the null hypothesis and conclude that spending 1000$ on Radio advertisement increases Sale for 189$ while holding other variables fixed.\n",
    "\n",
    "3. Newspaper (p-value=0.8599): based on the p-value we accept the null hypothesis and conclude that Newspaper advertisement has no effect on Sale."
   ]
  },
  {
   "cell_type": "markdown",
   "metadata": {},
   "source": []
  }
 ],
 "metadata": {
  "language_info": {
   "name": "python"
  }
 },
 "nbformat": 4,
 "nbformat_minor": 2
}
