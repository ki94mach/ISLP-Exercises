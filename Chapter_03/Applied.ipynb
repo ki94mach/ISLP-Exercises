{
 "cells": [
  {
   "cell_type": "markdown",
   "metadata": {},
   "source": [
    "# Chapter 3: Linear Regression - Applied Exercises"
   ]
  },
  {
   "cell_type": "markdown",
   "metadata": {},
   "source": [
    "## Exercise 3.8:\n",
    "This question involves the use of simple linear regression on the Auto data set.\n",
    "\n",
    "(a) Use the sm.OLS() function to perform a simple linear regression with mpg as the response and horsepower as the predictor. Use the summarize() function to print the results. Comment on the output. For example:\n",
    "\n",
    "i. Is there a relationship between the predictor and the response?\n",
    "\n",
    "ii. How strong is the relationship between the predictor and the response?\n",
    "\n",
    "iii. Is the relationship between the predictor and the response positive or negative?\n",
    "\n",
    "iv. What is the predicted mpg associated with a horsepower of 98? What are the associated 95 % confidence and prediction intervals?\n",
    "\n",
    "### Answer:\n",
    "\n",
    "i."
   ]
  },
  {
   "cell_type": "code",
   "execution_count": 8,
   "metadata": {},
   "outputs": [],
   "source": [
    "import statsmodels.api as sm\n",
    "import pandas as pd\n",
    "import numpy as np"
   ]
  },
  {
   "cell_type": "code",
   "execution_count": 3,
   "metadata": {},
   "outputs": [],
   "source": [
    "auto_df = pd.read_csv('../Chapter_02/data/Auto.csv')"
   ]
  },
  {
   "cell_type": "code",
   "execution_count": 33,
   "metadata": {},
   "outputs": [],
   "source": [
    "pred = auto_df['horsepower'].replace('?', 0).astype('float64')\n",
    "res = auto_df['mpg'].astype('float64')\n",
    "pred = sm.add_constant(pred)"
   ]
  },
  {
   "cell_type": "code",
   "execution_count": 53,
   "metadata": {},
   "outputs": [
    {
     "data": {
      "text/html": [
       "<table class=\"simpletable\">\n",
       "<caption>OLS Regression Results</caption>\n",
       "<tr>\n",
       "  <th>Dep. Variable:</th>           <td>mpg</td>       <th>  R-squared:         </th> <td>   0.579</td>\n",
       "</tr>\n",
       "<tr>\n",
       "  <th>Model:</th>                   <td>OLS</td>       <th>  Adj. R-squared:    </th> <td>   0.578</td>\n",
       "</tr>\n",
       "<tr>\n",
       "  <th>Method:</th>             <td>Least Squares</td>  <th>  F-statistic:       </th> <td>   543.5</td>\n",
       "</tr>\n",
       "<tr>\n",
       "  <th>Date:</th>             <td>Wed, 07 Aug 2024</td> <th>  Prob (F-statistic):</th> <td>3.10e-76</td>\n",
       "</tr>\n",
       "<tr>\n",
       "  <th>Time:</th>                 <td>13:35:18</td>     <th>  Log-Likelihood:    </th> <td> -1207.8</td>\n",
       "</tr>\n",
       "<tr>\n",
       "  <th>No. Observations:</th>      <td>   397</td>      <th>  AIC:               </th> <td>   2420.</td>\n",
       "</tr>\n",
       "<tr>\n",
       "  <th>Df Residuals:</th>          <td>   395</td>      <th>  BIC:               </th> <td>   2428.</td>\n",
       "</tr>\n",
       "<tr>\n",
       "  <th>Df Model:</th>              <td>     1</td>      <th>                     </th>     <td> </td>   \n",
       "</tr>\n",
       "<tr>\n",
       "  <th>Covariance Type:</th>      <td>nonrobust</td>    <th>                     </th>     <td> </td>   \n",
       "</tr>\n",
       "</table>\n",
       "<table class=\"simpletable\">\n",
       "<tr>\n",
       "       <td></td>         <th>coef</th>     <th>std err</th>      <th>t</th>      <th>P>|t|</th>  <th>[0.025</th>    <th>0.975]</th>  \n",
       "</tr>\n",
       "<tr>\n",
       "  <th>const</th>      <td>   38.8792</td> <td>    0.707</td> <td>   55.019</td> <td> 0.000</td> <td>   37.490</td> <td>   40.268</td>\n",
       "</tr>\n",
       "<tr>\n",
       "  <th>horsepower</th> <td>   -0.1489</td> <td>    0.006</td> <td>  -23.314</td> <td> 0.000</td> <td>   -0.161</td> <td>   -0.136</td>\n",
       "</tr>\n",
       "</table>\n",
       "<table class=\"simpletable\">\n",
       "<tr>\n",
       "  <th>Omnibus:</th>       <td>12.157</td> <th>  Durbin-Watson:     </th> <td>   0.995</td>\n",
       "</tr>\n",
       "<tr>\n",
       "  <th>Prob(Omnibus):</th> <td> 0.002</td> <th>  Jarque-Bera (JB):  </th> <td>  14.244</td>\n",
       "</tr>\n",
       "<tr>\n",
       "  <th>Skew:</th>          <td> 0.323</td> <th>  Prob(JB):          </th> <td>0.000807</td>\n",
       "</tr>\n",
       "<tr>\n",
       "  <th>Kurtosis:</th>      <td> 3.667</td> <th>  Cond. No.          </th> <td>    306.</td>\n",
       "</tr>\n",
       "</table><br/><br/>Notes:<br/>[1] Standard Errors assume that the covariance matrix of the errors is correctly specified."
      ],
      "text/latex": [
       "\\begin{center}\n",
       "\\begin{tabular}{lclc}\n",
       "\\toprule\n",
       "\\textbf{Dep. Variable:}    &       mpg        & \\textbf{  R-squared:         } &     0.579   \\\\\n",
       "\\textbf{Model:}            &       OLS        & \\textbf{  Adj. R-squared:    } &     0.578   \\\\\n",
       "\\textbf{Method:}           &  Least Squares   & \\textbf{  F-statistic:       } &     543.5   \\\\\n",
       "\\textbf{Date:}             & Wed, 07 Aug 2024 & \\textbf{  Prob (F-statistic):} &  3.10e-76   \\\\\n",
       "\\textbf{Time:}             &     13:35:18     & \\textbf{  Log-Likelihood:    } &   -1207.8   \\\\\n",
       "\\textbf{No. Observations:} &         397      & \\textbf{  AIC:               } &     2420.   \\\\\n",
       "\\textbf{Df Residuals:}     &         395      & \\textbf{  BIC:               } &     2428.   \\\\\n",
       "\\textbf{Df Model:}         &           1      & \\textbf{                     } &             \\\\\n",
       "\\textbf{Covariance Type:}  &    nonrobust     & \\textbf{                     } &             \\\\\n",
       "\\bottomrule\n",
       "\\end{tabular}\n",
       "\\begin{tabular}{lcccccc}\n",
       "                    & \\textbf{coef} & \\textbf{std err} & \\textbf{t} & \\textbf{P$> |$t$|$} & \\textbf{[0.025} & \\textbf{0.975]}  \\\\\n",
       "\\midrule\n",
       "\\textbf{const}      &      38.8792  &        0.707     &    55.019  &         0.000        &       37.490    &       40.268     \\\\\n",
       "\\textbf{horsepower} &      -0.1489  &        0.006     &   -23.314  &         0.000        &       -0.161    &       -0.136     \\\\\n",
       "\\bottomrule\n",
       "\\end{tabular}\n",
       "\\begin{tabular}{lclc}\n",
       "\\textbf{Omnibus:}       & 12.157 & \\textbf{  Durbin-Watson:     } &    0.995  \\\\\n",
       "\\textbf{Prob(Omnibus):} &  0.002 & \\textbf{  Jarque-Bera (JB):  } &   14.244  \\\\\n",
       "\\textbf{Skew:}          &  0.323 & \\textbf{  Prob(JB):          } & 0.000807  \\\\\n",
       "\\textbf{Kurtosis:}      &  3.667 & \\textbf{  Cond. No.          } &     306.  \\\\\n",
       "\\bottomrule\n",
       "\\end{tabular}\n",
       "%\\caption{OLS Regression Results}\n",
       "\\end{center}\n",
       "\n",
       "Notes: \\newline\n",
       " [1] Standard Errors assume that the covariance matrix of the errors is correctly specified."
      ],
      "text/plain": [
       "<class 'statsmodels.iolib.summary.Summary'>\n",
       "\"\"\"\n",
       "                            OLS Regression Results                            \n",
       "==============================================================================\n",
       "Dep. Variable:                    mpg   R-squared:                       0.579\n",
       "Model:                            OLS   Adj. R-squared:                  0.578\n",
       "Method:                 Least Squares   F-statistic:                     543.5\n",
       "Date:                Wed, 07 Aug 2024   Prob (F-statistic):           3.10e-76\n",
       "Time:                        13:35:18   Log-Likelihood:                -1207.8\n",
       "No. Observations:                 397   AIC:                             2420.\n",
       "Df Residuals:                     395   BIC:                             2428.\n",
       "Df Model:                           1                                         \n",
       "Covariance Type:            nonrobust                                         \n",
       "==============================================================================\n",
       "                 coef    std err          t      P>|t|      [0.025      0.975]\n",
       "------------------------------------------------------------------------------\n",
       "const         38.8792      0.707     55.019      0.000      37.490      40.268\n",
       "horsepower    -0.1489      0.006    -23.314      0.000      -0.161      -0.136\n",
       "==============================================================================\n",
       "Omnibus:                       12.157   Durbin-Watson:                   0.995\n",
       "Prob(Omnibus):                  0.002   Jarque-Bera (JB):               14.244\n",
       "Skew:                           0.323   Prob(JB):                     0.000807\n",
       "Kurtosis:                       3.667   Cond. No.                         306.\n",
       "==============================================================================\n",
       "\n",
       "Notes:\n",
       "[1] Standard Errors assume that the covariance matrix of the errors is correctly specified.\n",
       "\"\"\""
      ]
     },
     "execution_count": 53,
     "metadata": {},
     "output_type": "execute_result"
    }
   ],
   "source": [
    "model = sm.OLS(res, pred)\n",
    "result = model.fit()\n",
    "result.summary()"
   ]
  },
  {
   "cell_type": "markdown",
   "metadata": {},
   "source": [
    "Based on the p-value of horsepower (<0.05) we can assume that it has a significant relationship with mpg.\n",
    "\n",
    "ii. Based on the absolute value of horsepower's coefficient (<1) we can say that changes of horsepower wil cause small variation in mpg so their correlation is not strong.\n",
    "\n",
    "iii. The coefficient of predictor hold a negative value, hence they have negative relationship.\n",
    "\n",
    "iv.\n"
   ]
  },
  {
   "cell_type": "code",
   "execution_count": 63,
   "metadata": {},
   "outputs": [],
   "source": [
    "prediction_obj = result.get_prediction((1,98))\n",
    "prediction = prediction_obj.predicted_mean.round(2)\n",
    "conf_int = prediction_obj.conf_int(alpha=0.05).round(2)\n",
    "pred_int = prediction_obj.conf_int(obs=True, alpha=0.05).round(2)"
   ]
  },
  {
   "cell_type": "code",
   "execution_count": 64,
   "metadata": {},
   "outputs": [
    {
     "name": "stdout",
     "output_type": "stream",
     "text": [
      "The Prediction mean for 98 horsepower is [24.28] with 95% confidence interval of [[23.78 24.79]] and prediction interval of [[14.28 34.29]]\n"
     ]
    }
   ],
   "source": [
    "print(f\"The Prediction mean for 98 horsepower is {prediction} with 95% confidence interval of {conf_int} and prediction interval of {pred_int}\")"
   ]
  },
  {
   "cell_type": "markdown",
   "metadata": {},
   "source": [
    "(b) Plot the response and the predictor in a new set of axes ax. Use the ax.axline() method or the abline() function defined in the lab to display the least squares regression line.\n",
    "\n",
    "### Answer:"
   ]
  },
  {
   "cell_type": "code",
   "execution_count": null,
   "metadata": {},
   "outputs": [],
   "source": []
  }
 ],
 "metadata": {
  "kernelspec": {
   "display_name": "ISLP",
   "language": "python",
   "name": "python3"
  },
  "language_info": {
   "codemirror_mode": {
    "name": "ipython",
    "version": 3
   },
   "file_extension": ".py",
   "mimetype": "text/x-python",
   "name": "python",
   "nbconvert_exporter": "python",
   "pygments_lexer": "ipython3",
   "version": "3.12.4"
  }
 },
 "nbformat": 4,
 "nbformat_minor": 2
}
